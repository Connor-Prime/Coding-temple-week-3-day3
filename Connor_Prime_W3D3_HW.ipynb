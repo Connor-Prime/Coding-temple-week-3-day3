{
 "cells": [
  {
   "cell_type": "markdown",
   "metadata": {},
   "source": [
    "#  Final Exercise: <br> <br>Create a Move_Tutor Class that in herits from the Pokemon parent class.\n",
    "\n",
    "<p>This class should have a list attribute (move_list) that holds pokemon moves which should be populated with an api call to the PokeApi moves section  (just like we did with abilities and types in the Pokemon class example). Finally create a class method that teaches your pokemon up to 4 moves. This method should take in a user input to what move they would like to teach and do a membership inside the move_list. If the move exists inside the move_list the pokemon can learn that move and append to the final taught_moves list. </p> \n",
    "\n"
   ]
  },
  {
   "cell_type": "code",
   "execution_count": 8,
   "metadata": {},
   "outputs": [
    {
     "name": "stdout",
     "output_type": "stream",
     "text": [
      "['mega-punch', 'pay-day', 'thunder-punch', 'slam', 'double-kick', 'mega-kick', 'headbutt', 'body-slam', 'take-down', 'double-edge', 'tail-whip', 'growl', 'surf', 'submission', 'counter', 'seismic-toss', 'strength', 'thunder-shock', 'thunderbolt', 'thunder-wave', 'thunder', 'dig', 'toxic', 'agility', 'quick-attack', 'rage', 'mimic', 'double-team', 'defense-curl', 'light-screen', 'reflect', 'bide', 'swift', 'skull-bash', 'flash', 'rest', 'substitute', 'thief', 'snore', 'curse', 'reversal', 'protect', 'sweet-kiss', 'mud-slap', 'zap-cannon', 'detect', 'endure', 'charm', 'rollout', 'swagger', 'spark', 'attract', 'sleep-talk', 'return', 'frustration', 'dynamic-punch', 'encore', 'iron-tail', 'hidden-power', 'rain-dance', 'rock-smash', 'uproar', 'facade', 'focus-punch', 'charge', 'helping-hand', 'brick-break', 'knock-off', 'secret-power', 'fake-tears', 'signal-beam', 'covet', 'volt-tackle', 'calm-mind', 'shock-wave', 'natural-gift', 'feint', 'fling', 'magnet-rise', 'nasty-plot', 'discharge', 'captivate', 'grass-knot', 'charge-beam', 'electro-ball', 'round', 'echoed-voice', 'volt-switch', 'electroweb', 'wild-charge', 'disarming-voice', 'draining-kiss', 'play-rough', 'play-nice', 'confide', 'eerie-impulse', 'electric-terrain', 'nuzzle', 'laser-focus', 'rising-voltage', 'tera-blast', 'trailblaze']\n"
     ]
    },
    {
     "name": "stdin",
     "output_type": "stream",
     "text": [
      "What move would you like to teach pikachu? fling\n"
     ]
    },
    {
     "name": "stdout",
     "output_type": "stream",
     "text": [
      "Pikachu now knows FLING.\n",
      "Pikachu now knows FLING.\n"
     ]
    },
    {
     "name": "stdin",
     "output_type": "stream",
     "text": [
      "What move would you like to teach pikachu? thunderbolt\n"
     ]
    },
    {
     "name": "stdout",
     "output_type": "stream",
     "text": [
      "Pikachu now knows FLING and THUNDERBOLT.\n",
      "Pikachu now knows FLING and THUNDERBOLT.\n"
     ]
    },
    {
     "name": "stdin",
     "output_type": "stream",
     "text": [
      "What move would you like to teach pikachu? magnet-rise\n"
     ]
    },
    {
     "name": "stdout",
     "output_type": "stream",
     "text": [
      "Pikachu now knows FLING and THUNDERBOLT and MAGNET-RISE.\n",
      "Pikachu now knows FLING and THUNDERBOLT and MAGNET-RISE.\n"
     ]
    },
    {
     "name": "stdin",
     "output_type": "stream",
     "text": [
      "What move would you like to teach pikachu? feint\n"
     ]
    },
    {
     "name": "stdout",
     "output_type": "stream",
     "text": [
      "Pikachu now knows FLING and THUNDERBOLT and MAGNET-RISE and FEINT.\n",
      "Pikachu now knows FLING and THUNDERBOLT and MAGNET-RISE and FEINT.\n"
     ]
    },
    {
     "name": "stdin",
     "output_type": "stream",
     "text": [
      "What move would you like to teach pikachu? fling\n"
     ]
    },
    {
     "name": "stdout",
     "output_type": "stream",
     "text": [
      "Pikachu already knows fling silly billy.\n",
      "Pikachu now knows FLING and THUNDERBOLT and MAGNET-RISE and FEINT.\n"
     ]
    },
    {
     "name": "stdin",
     "output_type": "stream",
     "text": [
      "What move would you like to teach pikachu? mega-kick\n"
     ]
    },
    {
     "name": "stdout",
     "output_type": "stream",
     "text": [
      "Pikachu can't learn mega-kick without forgeting a move.\n",
      "\n",
      "\n",
      "Pikachu now knows FLING and THUNDERBOLT and MAGNET-RISE and FEINT.\n"
     ]
    },
    {
     "name": "stdin",
     "output_type": "stream",
     "text": [
      "\n",
      "\n",
      "Select a move to forget or 'quit' to quit. fling\n"
     ]
    },
    {
     "name": "stdout",
     "output_type": "stream",
     "text": [
      "Pikachu now knows MEGA-KICK and THUNDERBOLT and MAGNET-RISE and FEINT.\n"
     ]
    },
    {
     "name": "stdin",
     "output_type": "stream",
     "text": [
      "What move would you like to teach pikachu? quit\n"
     ]
    },
    {
     "name": "stdout",
     "output_type": "stream",
     "text": [
      "no move added\n"
     ]
    }
   ],
   "source": [
    "import requests\n",
    "# recreate your pokemon class here\n",
    "class Pokemon:\n",
    "    def __init__(self, name):\n",
    "        self.name = name\n",
    "        self.types = []\n",
    "        self.abilities = []\n",
    "        self.weight = None\n",
    "        # new image attribute\n",
    "        self.image = None\n",
    "        self.poke_api_call()\n",
    "        \n",
    "    def poke_api_call(self):\n",
    "        r = requests.get(f\"https://pokeapi.co/api/v2/pokemon/{self.name.lower()}\")\n",
    "        if r.status_code == 200:\n",
    "            pokemon = r.json()\n",
    "        else:\n",
    "            print(f\"Please check the spelling of your pokemon's name and try again!: {r.status_code}\")\n",
    "            return\n",
    "        \n",
    "        self.name = pokemon['name']\n",
    "        self.types = [type_['type']['name'] for type_ in pokemon['types']]\n",
    "        self.abilities = [ability['ability']['name'] for ability in pokemon['abilities']]\n",
    "        self.weight = pokemon['weight']\n",
    "        #new image details. adding image to attribute\n",
    "        self.image = pokemon['sprites']['front_shiny']\n",
    "#         print(f\"{self.name}'s data has been updated!\")\n",
    "    \n",
    "    #display our image with a method\n",
    "    def display(self):\n",
    "        display(Image(url = self.image))\n",
    "        \n",
    "    #repr gives us string representation of our object\n",
    "    def __repr__(self):\n",
    "        return f\"You caught a {self.name}!\"\n",
    "            \n",
    "        \n",
    "    \n",
    "class Move_Tutor(Pokemon):\n",
    "    def __init__(self,name):\n",
    "        self.move_list = []\n",
    "        self.taught_moves = []\n",
    "        \n",
    "        self.name = name.lower().strip()\n",
    "        \n",
    "        self.get_move_list()\n",
    "        \n",
    "        super().__init__(name)\n",
    "    \n",
    "    def get_move_list(self):\n",
    "        r = requests.get(f\"https://pokeapi.co/api/v2/pokemon/{self.name}/\")\n",
    "        if r.status_code == 200:\n",
    "            data = r.json()\n",
    "        else:\n",
    "            print(f\"Ran into an issue, please check your pokemon's name: {r.status_code}\")\n",
    "            return\n",
    "        \n",
    "        self.move_list=[move[\"move\"][\"name\"] for move in data[\"moves\"]]\n",
    "        \n",
    "\n",
    "        return\n",
    "    \n",
    "    def teach_move(self):\n",
    "        \n",
    "        move = input(\"What move would you like to teach pikachu?\").lower().strip()\n",
    "        \n",
    "        if move in self.move_list:\n",
    "\n",
    "            # list taught moves with moves in caps\n",
    "            taught_moves_string = '$'.join((self.taught_moves)).upper().replace('$', ' and ')\n",
    "            \n",
    "            if move in self.taught_moves:\n",
    "                print(f\"{self.name.title()} already knows {move} silly billy.\")\n",
    "\n",
    "            # Can add move if pokemon has less than 4 moves\n",
    "            elif len(self.taught_moves)<4:\n",
    "                self.taught_moves.append(move)\n",
    "\n",
    "                # list taught moves with moves in caps\n",
    "                taught_moves_string = '$'.join((self.taught_moves)).upper().replace('$', ' and ')\n",
    "                \n",
    "                print(f\"{self.name.title()} now knows {taught_moves_string}.\")\n",
    "                \n",
    "            # Otherwise a move has to be forgotten or this teach_move must be quit\n",
    "            else:\n",
    "\n",
    "                while True:\n",
    "                    print(f\"{self.name.title()} can't learn {move} without forgeting a move.\")\n",
    "                    print(f\"\\n\\n{self.name.title()} now knows {taught_moves_string}.\")\n",
    "                    lost_move = input(\"\\n\\nSelect a move to forget or \\'quit\\' to quit.\").strip().lower()\n",
    "    \n",
    "                    if lost_move in self.taught_moves:\n",
    "                        self.taught_moves[self.taught_moves.index(lost_move)] = move\n",
    "                        break\n",
    "                    elif lost_move == \"quit\":\n",
    "                        return\n",
    "                    else:\n",
    "                        print(\"I didn't quit get that. \\n\\n\")\n",
    "                        # new top moves string\n",
    "            print(f\"{self.name.title()} now knows {'$'.join((self.taught_moves)).upper().replace('$', ' and ')}.\")\n",
    "        elif move == \"quit\":\n",
    "            print(\"no move added\")\n",
    "        else:\n",
    "            print(f\"{self.name.title()} can't learn. {move}\")\n",
    "    def show_moves(self):\n",
    "        taught_moves_string = '$'.join((self.taught_moves)).upper().replace('$', ' and ')\n",
    "        return f\"{self.name.title()} now knows {taught_moves_string}.\"\n",
    "        \n",
    "pika = Move_Tutor(\"pikachu\")\n",
    "\n",
    "# Test if move list works and references the possible moves to teach for other tests\n",
    "print(pika.move_list)\n",
    "\n",
    "pika.teach_move()\n",
    "pika.teach_move()\n",
    "pika.teach_move()\n",
    "pika.teach_move()\n",
    "pika.teach_move()\n",
    "pika.teach_move()\n",
    "pika.teach_move()\n",
    "pikachu = pika"
   ]
  },
  {
   "cell_type": "code",
   "execution_count": 9,
   "metadata": {},
   "outputs": [
    {
     "data": {
      "text/plain": [
       "'Pikachu now knows MEGA-KICK and THUNDERBOLT and MAGNET-RISE and FEINT.'"
      ]
     },
     "execution_count": 9,
     "metadata": {},
     "output_type": "execute_result"
    }
   ],
   "source": [
    "pikachu.show_moves()"
   ]
  },
  {
   "cell_type": "code",
   "execution_count": null,
   "metadata": {},
   "outputs": [],
   "source": []
  }
 ],
 "metadata": {
  "kernelspec": {
   "display_name": "Python 3 (ipykernel)",
   "language": "python",
   "name": "python3"
  },
  "language_info": {
   "codemirror_mode": {
    "name": "ipython",
    "version": 3
   },
   "file_extension": ".py",
   "mimetype": "text/x-python",
   "name": "python",
   "nbconvert_exporter": "python",
   "pygments_lexer": "ipython3",
   "version": "3.11.4"
  }
 },
 "nbformat": 4,
 "nbformat_minor": 4
}
